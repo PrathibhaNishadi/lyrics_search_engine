{
  "nbformat": 4,
  "nbformat_minor": 0,
  "metadata": {
    "colab": {
      "name": "sinhala_translation.ipynb",
      "provenance": []
    },
    "kernelspec": {
      "name": "python3",
      "display_name": "Python 3"
    }
  },
  "cells": [
    {
      "cell_type": "code",
      "metadata": {
        "id": "3XFQHpetG_4T",
        "colab_type": "code",
        "colab": {}
      },
      "source": [
        "from google.colab import drive\n",
        "drive.mount('/content/gdrive')\n"
      ],
      "execution_count": null,
      "outputs": []
    },
    {
      "cell_type": "code",
      "metadata": {
        "id": "Lc-JHvLeYxta",
        "colab_type": "code",
        "colab": {}
      },
      "source": [
        "!pip install googletrans"
      ],
      "execution_count": null,
      "outputs": []
    },
    {
      "cell_type": "code",
      "metadata": {
        "id": "qWI2BRXSYwJ7",
        "colab_type": "code",
        "colab": {}
      },
      "source": [
        "import json\n",
        "from googletrans import Translator\n",
        "import re\n",
        "import os"
      ],
      "execution_count": 3,
      "outputs": []
    },
    {
      "cell_type": "code",
      "metadata": {
        "id": "sElQhwygYPuk",
        "colab_type": "code",
        "colab": {}
      },
      "source": [
        "separator = ','\n",
        "translator=Translator()\n",
        "final_songs_list= []\n",
        "id = 1"
      ],
      "execution_count": 4,
      "outputs": []
    },
    {
      "cell_type": "code",
      "metadata": {
        "id": "MkpyFQlMYTDi",
        "colab_type": "code",
        "colab": {}
      },
      "source": [
        "with open('songs.json' , encoding='utf-8') as songs:\n",
        "  songs_list = json.load(songs)"
      ],
      "execution_count": 8,
      "outputs": []
    },
    {
      "cell_type": "code",
      "metadata": {
        "id": "F7dkWeyTYWb0",
        "colab_type": "code",
        "colab": {}
      },
      "source": [
        "def traslate_value(multiple):\n",
        "  translated = []\n",
        "  for one in multiple:\n",
        "    translated.append(translator.translate(one,dest=\"si\").text)\n",
        "  if(len(translated)!=1):\n",
        "   return separator.join(translated)\n",
        "  else:\n",
        "   return translated[0]\n",
        " \n",
        "for song in songs_list:\n",
        "    formatted_song = {\n",
        "        \"title\" : traslate_value(song['songTitle']),\n",
        "        \"artist\" :  traslate_value(song['artist']),\n",
        "        \"genre\" : traslate_value(song['genre']),\n",
        "        \"url\" : traslate_value(song['url']),\n",
        "        \"lyricsBy\" : traslate_value(song['lyricsBy']),\n",
        "        \"musicBy\" : traslate_value(song['musicBy']),\n",
        "        \"lyrics\" : traslate_value(song['lyrics']),\n",
        "    }\n",
        "    print(formatted_song)\n",
        "    final_songs_list.append(formatted_song)\n",
        "    id +=1"
      ],
      "execution_count": null,
      "outputs": []
    },
    {
      "cell_type": "code",
      "metadata": {
        "id": "ulgB3n5OYZRQ",
        "colab_type": "code",
        "colab": {}
      },
      "source": [
        "with open('processed_songs_details.json' ,'w', encoding='utf-8') as outf:\n",
        "  json.dump(final_songs_list,outf,indent=4,ensure_ascii=False)"
      ],
      "execution_count": null,
      "outputs": []
    }
  ]
}